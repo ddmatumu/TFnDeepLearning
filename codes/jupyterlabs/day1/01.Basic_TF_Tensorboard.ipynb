{
 "cells": [
  {
   "cell_type": "markdown",
   "metadata": {},
   "source": [
    "# 01. Basic about Tensorflow and Tensorboard\n",
    "- Good resources to read about Tensorboard: [here](https://www.tensorflow.org/guide/summaries_and_tensorboard) from TF website, and [here](https://www.datacamp.com/community/tutorials/tensorboard-tutorial).\n",
    "\n",
    "## Quick summary about Tensorboard:\n",
    "1. tf.summary: create the TensorFlow graph that you'd like to collect summary data from, and decide which nodes you would like to annotate. This means that whatever value you'd like to be displayed, you should encapsulate as a tf.summary object.\n",
    "2. tf.summary.scalar: e.g., record how the learning rate varies over time, and how the objective function is changing.\n",
    "3. tf.summary.histogram: e.g.,  visualize the distributions of activations coming off a particular layer, or the distribution of gradients or weights.\n",
    "4. tf.summary.merge_all: to combine all summaries into a single op that generates all the summary data.\n",
    "5. tf.summary.FileWriter: write this summary data to disk."
   ]
  },
  {
   "cell_type": "code",
   "execution_count": 1,
   "metadata": {},
   "outputs": [
    {
     "name": "stderr",
     "output_type": "stream",
     "text": [
      "/home/sonvx/anaconda2/envs/ipykernel_py3_ml/lib/python3.6/site-packages/h5py/__init__.py:36: FutureWarning: Conversion of the second argument of issubdtype from `float` to `np.floating` is deprecated. In future, it will be treated as `np.float64 == np.dtype(float).type`.\n",
      "  from ._conv import register_converters as _register_converters\n"
     ]
    }
   ],
   "source": [
    "import tensorflow as tf\n",
    "import numpy as np"
   ]
  },
  {
   "cell_type": "code",
   "execution_count": 2,
   "metadata": {},
   "outputs": [],
   "source": [
    "# Showing graph on Jupyter Notebook\n",
    "# source: https://stackoverflow.com/questions/38189119/simple-way-to-visualize-a-tensorflow-graph-in-jupyter\n",
    "from IPython.display import clear_output, Image, display, HTML\n",
    "\n",
    "def strip_consts(graph_def, max_const_size=32):\n",
    "    \"\"\"Strip large constant values from graph_def.\"\"\"\n",
    "    strip_def = tf.GraphDef()\n",
    "    for n0 in graph_def.node:\n",
    "        n = strip_def.node.add() \n",
    "        n.MergeFrom(n0)\n",
    "        if n.op == 'Const':\n",
    "            tensor = n.attr['value'].tensor\n",
    "            size = len(tensor.tensor_content)\n",
    "            if size > max_const_size:\n",
    "                tensor.tensor_content = \"<stripped %d bytes>\"%size\n",
    "    return strip_def\n",
    "\n",
    "def show_graph(graph_def, max_const_size=32):\n",
    "    \"\"\"Visualize TensorFlow graph.\"\"\"\n",
    "    if hasattr(graph_def, 'as_graph_def'):\n",
    "        graph_def = graph_def.as_graph_def()\n",
    "    strip_def = strip_consts(graph_def, max_const_size=max_const_size)\n",
    "    code = \"\"\"\n",
    "        <script>\n",
    "          function load() {{\n",
    "            document.getElementById(\"{id}\").pbtxt = {data};\n",
    "          }}\n",
    "        </script>\n",
    "        <link rel=\"import\" href=\"https://tensorboard.appspot.com/tf-graph-basic.build.html\" onload=load()>\n",
    "        <div style=\"height:600px\">\n",
    "          <tf-graph-basic id=\"{id}\"></tf-graph-basic>\n",
    "        </div>\n",
    "    \"\"\".format(data=repr(str(strip_def)), id='graph'+str(np.random.rand()))\n",
    "\n",
    "    iframe = \"\"\"\n",
    "        <iframe seamless style=\"width:1200px;height:620px;border:0\" srcdoc=\"{}\"></iframe>\n",
    "    \"\"\".format(code.replace('\"', '&quot;'))\n",
    "    display(HTML(iframe))"
   ]
  },
  {
   "cell_type": "markdown",
   "metadata": {},
   "source": [
    "## 1. Play with operations and sessions"
   ]
  },
  {
   "cell_type": "code",
   "execution_count": 3,
   "metadata": {},
   "outputs": [],
   "source": [
    "logs_path_1 = '../../../my_data/tf_logs_tb'"
   ]
  },
  {
   "cell_type": "code",
   "execution_count": 4,
   "metadata": {},
   "outputs": [],
   "source": [
    "tf.reset_default_graph()\n",
    "x = 2\n",
    "y = 3\n",
    "op1 = tf.add(x, y)\n",
    "op2 = tf.multiply(x,y)\n",
    "op3 = tf.pow(op1, op2)"
   ]
  },
  {
   "cell_type": "code",
   "execution_count": 5,
   "metadata": {},
   "outputs": [],
   "source": [
    "with tf.Session() as sess:\n",
    "    op3 = sess.run(op3)\n",
    "    writer = tf.summary.FileWriter(logs_path_1, sess.graph)"
   ]
  },
  {
   "cell_type": "code",
   "execution_count": 6,
   "metadata": {},
   "outputs": [
    {
     "data": {
      "text/html": [
       "\n",
       "        <iframe seamless style=\"width:1200px;height:620px;border:0\" srcdoc=\"\n",
       "        <script>\n",
       "          function load() {\n",
       "            document.getElementById(&quot;graph0.27923008281240314&quot;).pbtxt = 'node {\\n  name: &quot;Add/x&quot;\\n  op: &quot;Const&quot;\\n  attr {\\n    key: &quot;dtype&quot;\\n    value {\\n      type: DT_INT32\\n    }\\n  }\\n  attr {\\n    key: &quot;value&quot;\\n    value {\\n      tensor {\\n        dtype: DT_INT32\\n        tensor_shape {\\n        }\\n        int_val: 2\\n      }\\n    }\\n  }\\n}\\nnode {\\n  name: &quot;Add/y&quot;\\n  op: &quot;Const&quot;\\n  attr {\\n    key: &quot;dtype&quot;\\n    value {\\n      type: DT_INT32\\n    }\\n  }\\n  attr {\\n    key: &quot;value&quot;\\n    value {\\n      tensor {\\n        dtype: DT_INT32\\n        tensor_shape {\\n        }\\n        int_val: 3\\n      }\\n    }\\n  }\\n}\\nnode {\\n  name: &quot;Add&quot;\\n  op: &quot;Add&quot;\\n  input: &quot;Add/x&quot;\\n  input: &quot;Add/y&quot;\\n  attr {\\n    key: &quot;T&quot;\\n    value {\\n      type: DT_INT32\\n    }\\n  }\\n}\\nnode {\\n  name: &quot;Mul/x&quot;\\n  op: &quot;Const&quot;\\n  attr {\\n    key: &quot;dtype&quot;\\n    value {\\n      type: DT_INT32\\n    }\\n  }\\n  attr {\\n    key: &quot;value&quot;\\n    value {\\n      tensor {\\n        dtype: DT_INT32\\n        tensor_shape {\\n        }\\n        int_val: 2\\n      }\\n    }\\n  }\\n}\\nnode {\\n  name: &quot;Mul/y&quot;\\n  op: &quot;Const&quot;\\n  attr {\\n    key: &quot;dtype&quot;\\n    value {\\n      type: DT_INT32\\n    }\\n  }\\n  attr {\\n    key: &quot;value&quot;\\n    value {\\n      tensor {\\n        dtype: DT_INT32\\n        tensor_shape {\\n        }\\n        int_val: 3\\n      }\\n    }\\n  }\\n}\\nnode {\\n  name: &quot;Mul&quot;\\n  op: &quot;Mul&quot;\\n  input: &quot;Mul/x&quot;\\n  input: &quot;Mul/y&quot;\\n  attr {\\n    key: &quot;T&quot;\\n    value {\\n      type: DT_INT32\\n    }\\n  }\\n}\\nnode {\\n  name: &quot;Pow&quot;\\n  op: &quot;Pow&quot;\\n  input: &quot;Add&quot;\\n  input: &quot;Mul&quot;\\n  attr {\\n    key: &quot;T&quot;\\n    value {\\n      type: DT_INT32\\n    }\\n  }\\n}\\n';\n",
       "          }\n",
       "        </script>\n",
       "        <link rel=&quot;import&quot; href=&quot;https://tensorboard.appspot.com/tf-graph-basic.build.html&quot; onload=load()>\n",
       "        <div style=&quot;height:600px&quot;>\n",
       "          <tf-graph-basic id=&quot;graph0.27923008281240314&quot;></tf-graph-basic>\n",
       "        </div>\n",
       "    \"></iframe>\n",
       "    "
      ],
      "text/plain": [
       "<IPython.core.display.HTML object>"
      ]
     },
     "metadata": {},
     "output_type": "display_data"
    }
   ],
   "source": [
    "# Run tensorboard to see:\n",
    "# !tensorboard --logdir=$logs_path --port 8890\n",
    "# OR:\n",
    "show_graph(tf.get_default_graph().as_graph_def())"
   ]
  },
  {
   "cell_type": "markdown",
   "metadata": {},
   "source": [
    "## 2. Play with operations and placeholders"
   ]
  },
  {
   "cell_type": "code",
   "execution_count": 7,
   "metadata": {},
   "outputs": [],
   "source": [
    "# A bit more complicate one:\n",
    "tf.reset_default_graph()\n",
    "x_arr = np.array([1,2,3,4])\n",
    "y_arr = np.array([3,4,5,6])"
   ]
  },
  {
   "cell_type": "code",
   "execution_count": 8,
   "metadata": {},
   "outputs": [],
   "source": [
    "x_ph = tf.placeholder(tf.int32, None)\n",
    "y_ph = tf.placeholder(tf.int32, None)"
   ]
  },
  {
   "cell_type": "code",
   "execution_count": 9,
   "metadata": {},
   "outputs": [],
   "source": [
    "op1 = tf.add(x_ph, y_ph)\n",
    "op2 = tf.multiply(x_ph,y_ph)\n",
    "op3 = tf.pow(op1, op2)"
   ]
  },
  {
   "cell_type": "code",
   "execution_count": 10,
   "metadata": {},
   "outputs": [
    {
     "name": "stdout",
     "output_type": "stream",
     "text": [
      "op1 (x+y) =  [ 4  6  8 10]\n",
      "op2 (x*y)=  [ 3  8 15 24]\n",
      "op3 (x*y)=  [         64     1679616           0 -1593835520]\n"
     ]
    }
   ],
   "source": [
    "with tf.Session() as sess:\n",
    "    out_op1 = sess.run(op1, feed_dict={x_ph: x_arr, y_ph:y_arr})\n",
    "    print(\"op1 (x+y) = \", out_op1)\n",
    "    out_op2 = sess.run(op2, feed_dict={x_ph: x_arr, y_ph:y_arr})\n",
    "    print(\"op2 (x*y)= \", out_op2)\n",
    "    out_op3 = sess.run(op3, feed_dict={x_ph: x_arr, y_ph:y_arr})\n",
    "    print(\"op3 (x*y)= \", out_op3)\n",
    "    \n",
    "    # writer.add_graph(sess.graph)\n",
    "    writer = tf.summary.FileWriter(logs_path_1, sess.graph)"
   ]
  },
  {
   "cell_type": "code",
   "execution_count": 11,
   "metadata": {},
   "outputs": [
    {
     "data": {
      "text/html": [
       "\n",
       "        <iframe seamless style=\"width:1200px;height:620px;border:0\" srcdoc=\"\n",
       "        <script>\n",
       "          function load() {\n",
       "            document.getElementById(&quot;graph0.3117313918402653&quot;).pbtxt = 'node {\\n  name: &quot;Placeholder&quot;\\n  op: &quot;Placeholder&quot;\\n  attr {\\n    key: &quot;dtype&quot;\\n    value {\\n      type: DT_INT32\\n    }\\n  }\\n  attr {\\n    key: &quot;shape&quot;\\n    value {\\n      shape {\\n        unknown_rank: true\\n      }\\n    }\\n  }\\n}\\nnode {\\n  name: &quot;Placeholder_1&quot;\\n  op: &quot;Placeholder&quot;\\n  attr {\\n    key: &quot;dtype&quot;\\n    value {\\n      type: DT_INT32\\n    }\\n  }\\n  attr {\\n    key: &quot;shape&quot;\\n    value {\\n      shape {\\n        unknown_rank: true\\n      }\\n    }\\n  }\\n}\\nnode {\\n  name: &quot;Add&quot;\\n  op: &quot;Add&quot;\\n  input: &quot;Placeholder&quot;\\n  input: &quot;Placeholder_1&quot;\\n  attr {\\n    key: &quot;T&quot;\\n    value {\\n      type: DT_INT32\\n    }\\n  }\\n}\\nnode {\\n  name: &quot;Mul&quot;\\n  op: &quot;Mul&quot;\\n  input: &quot;Placeholder&quot;\\n  input: &quot;Placeholder_1&quot;\\n  attr {\\n    key: &quot;T&quot;\\n    value {\\n      type: DT_INT32\\n    }\\n  }\\n}\\nnode {\\n  name: &quot;Pow&quot;\\n  op: &quot;Pow&quot;\\n  input: &quot;Add&quot;\\n  input: &quot;Mul&quot;\\n  attr {\\n    key: &quot;T&quot;\\n    value {\\n      type: DT_INT32\\n    }\\n  }\\n}\\n';\n",
       "          }\n",
       "        </script>\n",
       "        <link rel=&quot;import&quot; href=&quot;https://tensorboard.appspot.com/tf-graph-basic.build.html&quot; onload=load()>\n",
       "        <div style=&quot;height:600px&quot;>\n",
       "          <tf-graph-basic id=&quot;graph0.3117313918402653&quot;></tf-graph-basic>\n",
       "        </div>\n",
       "    \"></iframe>\n",
       "    "
      ],
      "text/plain": [
       "<IPython.core.display.HTML object>"
      ]
     },
     "metadata": {},
     "output_type": "display_data"
    }
   ],
   "source": [
    "# Check tensorboard\n",
    "# !tensorboard --logdir=$logs_path_1 --port 8890\n",
    "show_graph(tf.get_default_graph().as_graph_def())"
   ]
  },
  {
   "cell_type": "markdown",
   "metadata": {},
   "source": [
    "## 3. Adding Tensorboard"
   ]
  },
  {
   "cell_type": "code",
   "execution_count": 12,
   "metadata": {},
   "outputs": [],
   "source": [
    "logs_path_2 = '../../../my_data/tf_logs_scalars'"
   ]
  },
  {
   "cell_type": "code",
   "execution_count": 13,
   "metadata": {},
   "outputs": [],
   "source": [
    "x_2d_arr = np.array([[1,2,3,4],\n",
    "                  [4,3,2,1]\n",
    "                 ])\n",
    "y_2d_arr = np.array([[3,4,5,6],\n",
    "                  [6,5,4,3]\n",
    "                 ])"
   ]
  },
  {
   "cell_type": "code",
   "execution_count": 23,
   "metadata": {},
   "outputs": [],
   "source": [
    "tf.reset_default_graph()\n",
    "x_ph = tf.placeholder(tf.int32, None)\n",
    "y_ph = tf.placeholder(tf.int32, None)\n",
    "op1 = tf.add(x_ph, y_ph)\n",
    "op2 = tf.multiply(x_ph,y_ph)\n",
    "op3 = tf.pow(op1, op2)"
   ]
  },
  {
   "cell_type": "code",
   "execution_count": 24,
   "metadata": {},
   "outputs": [],
   "source": [
    "# Name scope allows you to group various summaries together\n",
    "# Summaries having the same name_scope will be displayed on the same row on the Tensorboard\n",
    "with tf.name_scope('oper_summaries'):\n",
    "    # Summaries need to display on the Tensorboard\n",
    "    # Whenever need to record the op1, feed the op1 to this placeholder\n",
    "    tf_op1_ph = tf.placeholder(tf.int32, shape=[4], name='op1') \n",
    "    # Create a scalar summary object for the loss so Tensorboard knows how to display it\n",
    "    # tf_op1_summary = tf.summary.scalar('op1', tf.reduce_mean(tf_op1_ph))\n",
    "    tf_op1_summary = tf.summary.histogram('op1', tf_op1_ph)\n",
    "    \n",
    "    # Whenever need to record the op1, feed the op1 to this placeholder\n",
    "    tf_op2_ph = tf.placeholder(tf.int32, shape=None, name='op2') \n",
    "    # Create a scalar summary object for the loss so Tensorboard knows how to display it\n",
    "    # tf_op2_summary = tf.summary.scalar('op2', tf.reduce_mean(tf_op2_ph))\n",
    "    tf_op2_summary = tf.summary.histogram('op2', tf_op2_ph)\n",
    "\n",
    "performance_summaries = tf.summary.merge([tf_op1_summary,tf_op2_summary])"
   ]
  },
  {
   "cell_type": "code",
   "execution_count": 25,
   "metadata": {},
   "outputs": [
    {
     "name": "stdout",
     "output_type": "stream",
     "text": [
      "<class 'numpy.ndarray'> (4,)\n",
      "op1 (x+y) =  [ 4  6  8 10]\n",
      "op2 (x*y)=  [ 3  8 15 24]\n",
      "<class 'numpy.ndarray'> (4,)\n",
      "op3 (x*y)=  [         64     1679616           0 -1593835520]\n",
      "<class 'numpy.ndarray'> (4,)\n",
      "op1 (x+y) =  [10  8  6  4]\n",
      "op2 (x*y)=  [24 15  8  3]\n",
      "<class 'numpy.ndarray'> (4,)\n",
      "op3 (x*y)=  [-1593835520           0     1679616          64]\n"
     ]
    }
   ],
   "source": [
    "with tf.Session() as sess:\n",
    "    summ_writer = tf.summary.FileWriter(logs_path_2, sess.graph)\n",
    "    \n",
    "    idx = 0\n",
    "    for x_1d_arr, y_1d_arr in zip(x_2d_arr, y_2d_arr):\n",
    "        out_op1 = sess.run(op1, feed_dict={x_ph: x_1d_arr, y_ph:y_1d_arr})\n",
    "        print(type(out_op1), out_op1.shape)\n",
    "        print(\"op1 (x+y) = \", out_op1)\n",
    "        out_op2 = sess.run(op2, feed_dict={x_ph: x_1d_arr, y_ph:y_1d_arr})\n",
    "        print(\"op2 (x*y)= \", out_op2)\n",
    "        print(type(out_op1), out_op2.shape)\n",
    "        out_op3 = sess.run(op3, feed_dict={x_ph: x_1d_arr, y_ph:y_1d_arr})\n",
    "        print(\"op3 (x*y)= \", out_op3)\n",
    "        summ = sess.run(performance_summaries, feed_dict={tf_op1_ph: out_op1, tf_op2_ph: out_op2})\n",
    "        summ_writer.add_summary(summ, idx)\n",
    "        idx += 1\n",
    "    # writer.add_graph(sess.graph)\n",
    "    writer = tf.summary.FileWriter(logs_path_2, sess.graph)"
   ]
  },
  {
   "cell_type": "code",
   "execution_count": 26,
   "metadata": {},
   "outputs": [
    {
     "data": {
      "text/html": [
       "\n",
       "        <iframe seamless style=\"width:1200px;height:620px;border:0\" srcdoc=\"\n",
       "        <script>\n",
       "          function load() {\n",
       "            document.getElementById(&quot;graph0.4131284535912403&quot;).pbtxt = 'node {\\n  name: &quot;Placeholder&quot;\\n  op: &quot;Placeholder&quot;\\n  attr {\\n    key: &quot;dtype&quot;\\n    value {\\n      type: DT_INT32\\n    }\\n  }\\n  attr {\\n    key: &quot;shape&quot;\\n    value {\\n      shape {\\n        unknown_rank: true\\n      }\\n    }\\n  }\\n}\\nnode {\\n  name: &quot;Placeholder_1&quot;\\n  op: &quot;Placeholder&quot;\\n  attr {\\n    key: &quot;dtype&quot;\\n    value {\\n      type: DT_INT32\\n    }\\n  }\\n  attr {\\n    key: &quot;shape&quot;\\n    value {\\n      shape {\\n        unknown_rank: true\\n      }\\n    }\\n  }\\n}\\nnode {\\n  name: &quot;Add&quot;\\n  op: &quot;Add&quot;\\n  input: &quot;Placeholder&quot;\\n  input: &quot;Placeholder_1&quot;\\n  attr {\\n    key: &quot;T&quot;\\n    value {\\n      type: DT_INT32\\n    }\\n  }\\n}\\nnode {\\n  name: &quot;Mul&quot;\\n  op: &quot;Mul&quot;\\n  input: &quot;Placeholder&quot;\\n  input: &quot;Placeholder_1&quot;\\n  attr {\\n    key: &quot;T&quot;\\n    value {\\n      type: DT_INT32\\n    }\\n  }\\n}\\nnode {\\n  name: &quot;Pow&quot;\\n  op: &quot;Pow&quot;\\n  input: &quot;Add&quot;\\n  input: &quot;Mul&quot;\\n  attr {\\n    key: &quot;T&quot;\\n    value {\\n      type: DT_INT32\\n    }\\n  }\\n}\\nnode {\\n  name: &quot;oper_summaries/op1&quot;\\n  op: &quot;Placeholder&quot;\\n  attr {\\n    key: &quot;dtype&quot;\\n    value {\\n      type: DT_INT32\\n    }\\n  }\\n  attr {\\n    key: &quot;shape&quot;\\n    value {\\n      shape {\\n        dim {\\n          size: 4\\n        }\\n      }\\n    }\\n  }\\n}\\nnode {\\n  name: &quot;oper_summaries/op1_1/tag&quot;\\n  op: &quot;Const&quot;\\n  attr {\\n    key: &quot;dtype&quot;\\n    value {\\n      type: DT_STRING\\n    }\\n  }\\n  attr {\\n    key: &quot;value&quot;\\n    value {\\n      tensor {\\n        dtype: DT_STRING\\n        tensor_shape {\\n        }\\n        string_val: &quot;oper_summaries/op1_1&quot;\\n      }\\n    }\\n  }\\n}\\nnode {\\n  name: &quot;oper_summaries/op1_1&quot;\\n  op: &quot;HistogramSummary&quot;\\n  input: &quot;oper_summaries/op1_1/tag&quot;\\n  input: &quot;oper_summaries/op1&quot;\\n  attr {\\n    key: &quot;T&quot;\\n    value {\\n      type: DT_INT32\\n    }\\n  }\\n}\\nnode {\\n  name: &quot;oper_summaries/op2&quot;\\n  op: &quot;Placeholder&quot;\\n  attr {\\n    key: &quot;dtype&quot;\\n    value {\\n      type: DT_INT32\\n    }\\n  }\\n  attr {\\n    key: &quot;shape&quot;\\n    value {\\n      shape {\\n        unknown_rank: true\\n      }\\n    }\\n  }\\n}\\nnode {\\n  name: &quot;oper_summaries/op2_1/tag&quot;\\n  op: &quot;Const&quot;\\n  attr {\\n    key: &quot;dtype&quot;\\n    value {\\n      type: DT_STRING\\n    }\\n  }\\n  attr {\\n    key: &quot;value&quot;\\n    value {\\n      tensor {\\n        dtype: DT_STRING\\n        tensor_shape {\\n        }\\n        string_val: &quot;oper_summaries/op2_1&quot;\\n      }\\n    }\\n  }\\n}\\nnode {\\n  name: &quot;oper_summaries/op2_1&quot;\\n  op: &quot;HistogramSummary&quot;\\n  input: &quot;oper_summaries/op2_1/tag&quot;\\n  input: &quot;oper_summaries/op2&quot;\\n  attr {\\n    key: &quot;T&quot;\\n    value {\\n      type: DT_INT32\\n    }\\n  }\\n}\\nnode {\\n  name: &quot;Merge/MergeSummary&quot;\\n  op: &quot;MergeSummary&quot;\\n  input: &quot;oper_summaries/op1_1&quot;\\n  input: &quot;oper_summaries/op2_1&quot;\\n  attr {\\n    key: &quot;N&quot;\\n    value {\\n      i: 2\\n    }\\n  }\\n}\\n';\n",
       "          }\n",
       "        </script>\n",
       "        <link rel=&quot;import&quot; href=&quot;https://tensorboard.appspot.com/tf-graph-basic.build.html&quot; onload=load()>\n",
       "        <div style=&quot;height:600px&quot;>\n",
       "          <tf-graph-basic id=&quot;graph0.4131284535912403&quot;></tf-graph-basic>\n",
       "        </div>\n",
       "    \"></iframe>\n",
       "    "
      ],
      "text/plain": [
       "<IPython.core.display.HTML object>"
      ]
     },
     "metadata": {},
     "output_type": "display_data"
    }
   ],
   "source": [
    "# !tensorboard --logdir=$logs_path_2 --port 8890\n",
    "show_graph(tf.get_default_graph().as_graph_def())"
   ]
  },
  {
   "cell_type": "markdown",
   "metadata": {},
   "source": [
    "# Conclusions: after this Notebook, you should know:\n",
    "- How to use operations, sessions, placeholders in Tensorflow.\n",
    "- How to use Tensorboard to visualize the computational graph."
   ]
  },
  {
   "cell_type": "code",
   "execution_count": null,
   "metadata": {},
   "outputs": [],
   "source": []
  }
 ],
 "metadata": {
  "kernelspec": {
   "display_name": "Python 3",
   "language": "python",
   "name": "python3"
  },
  "language_info": {
   "codemirror_mode": {
    "name": "ipython",
    "version": 3
   },
   "file_extension": ".py",
   "mimetype": "text/x-python",
   "name": "python",
   "nbconvert_exporter": "python",
   "pygments_lexer": "ipython3",
   "version": "3.6.8"
  }
 },
 "nbformat": 4,
 "nbformat_minor": 2
}
