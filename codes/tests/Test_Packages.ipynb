{
 "cells": [
  {
   "cell_type": "code",
   "execution_count": 4,
   "metadata": {},
   "outputs": [],
   "source": [
    "%load_ext autoreload\n",
    "%autoreload 2\n",
    "import tensorflow as tf\n",
    "import pandas as pd\n",
    "import numpy as np\n",
    "import tensorboard\n",
    "import nltk"
   ]
  },
  {
   "cell_type": "code",
   "execution_count": 22,
   "metadata": {},
   "outputs": [],
   "source": [
    "# Include *.py files from other folders\n",
    "module_path = os.path.abspath(os.path.join('..'))\n",
    "if module_path not in sys.path:\n",
    "    sys.path.append(module_path)"
   ]
  },
  {
   "cell_type": "code",
   "execution_count": 23,
   "metadata": {},
   "outputs": [],
   "source": [
    "from pythonlibs.rnn.data import dataset_lm"
   ]
  },
  {
   "cell_type": "code",
   "execution_count": 24,
   "metadata": {},
   "outputs": [],
   "source": [
    "dataset = dataset_lm()"
   ]
  },
  {
   "cell_type": "code",
   "execution_count": 25,
   "metadata": {},
   "outputs": [
    {
     "data": {
      "text/plain": [
       "array(['All', 'good', 'so', 'far.', 'I', 'was', 'incredibly', 'hesitant',\n",
       "       'to', 'buy', 'a', 'refurbished', 'phone', 'on', 'Amazon', 'after',\n",
       "       'reading', 'so', 'many', 'negative', 'reviews', 'on', 'various',\n",
       "       'products.', 'I', 'spent', 'a', 'lot', 'of', 'time', 'researching',\n",
       "       'my', 'options', 'and', 'figured', 'this', 'one', 'was',\n",
       "       'probably', 'my', 'safest', 'bet.', 'Phone', 'came', 'in',\n",
       "       'perfect', 'condition', '(seriously,', 'it', 'looks', 'brand',\n",
       "       'new)', 'and', 'so', 'far', 'all', 'the', 'functions', 'seem',\n",
       "       'great.', 'Set', 'up', 'was', 'easy,', 'unlocked,', 'ready', 'to',\n",
       "       'set', 'my', 'fingerprint', 'and', 'everything.', \"It's\", 'fast,',\n",
       "       'sleek,', 'and', 'beautiful.', 'Camera', 'and', 'audio', 'are',\n",
       "       'also', 'great.', '1.', 'DEFECTIVE', 'BATTERY', '-', 'The',\n",
       "       'phone', 'was', 'defective', 'the', 'day', 'it', 'arrived.', 'The',\n",
       "       'battery', 'does', 'not', 'hold', 'a', 'charge', 'consistently',\n",
       "       'or', 'indicate', 'how', 'long', 'it', 'will', 'actually', 'last.',\n",
       "       'This', 'defect', 'is', 'sporadic—so', 'sometimes', 'it', 'works',\n",
       "       'and', 'sometimes', 'it', \"doesn't.\", 'I', 'thought', 'I', 'was',\n",
       "       'doing', 'something', 'wrong', 'at', 'first', 'so,', 'after', 'a',\n",
       "       'few', 'weeks', 'of', 'frustration,', 'I', 'did', 'a', 'test',\n",
       "       'to', 'see:', 'tracking', 'how', 'long', 'I', 'charged', 'and',\n",
       "       'how', 'long', 'it', 'lasted.', 'This', 'confirmed', 'it', 'was',\n",
       "       'not', 'my', 'fault', 'or', 'a', 'defective', 'charger', 'and',\n",
       "       'that', 'the', 'phone', 'I', 'purchased', 'from', 'Electonic',\n",
       "       'Deals', 'was', 'the', 'problem.'], dtype='<U12')"
      ]
     },
     "execution_count": 25,
     "metadata": {},
     "output_type": "execute_result"
    }
   ],
   "source": [
    "dataset"
   ]
  },
  {
   "cell_type": "code",
   "execution_count": null,
   "metadata": {},
   "outputs": [],
   "source": []
  }
 ],
 "metadata": {
  "kernelspec": {
   "display_name": "Python 3",
   "language": "python",
   "name": "python3"
  },
  "language_info": {
   "codemirror_mode": {
    "name": "ipython",
    "version": 3
   },
   "file_extension": ".py",
   "mimetype": "text/x-python",
   "name": "python",
   "nbconvert_exporter": "python",
   "pygments_lexer": "ipython3",
   "version": "3.6.8"
  }
 },
 "nbformat": 4,
 "nbformat_minor": 2
}
